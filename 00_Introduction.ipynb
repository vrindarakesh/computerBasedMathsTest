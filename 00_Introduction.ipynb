{
  "nbformat": 4,
  "nbformat_minor": 0,
  "metadata": {
    "colab": {
      "provenance": [],
      "authorship_tag": "ABX9TyOpqS+H+rBAj/Q8thMij2HR",
      "include_colab_link": true
    },
    "kernelspec": {
      "name": "python3",
      "display_name": "Python 3"
    },
    "language_info": {
      "name": "python"
    }
  },
  "cells": [
    {
      "cell_type": "markdown",
      "metadata": {
        "id": "view-in-github",
        "colab_type": "text"
      },
      "source": [
        "<a href=\"https://colab.research.google.com/github/vrindarakesh/computerBasedMathsTest/blob/main/00_Introduction.ipynb\" target=\"_parent\"><img src=\"https://colab.research.google.com/assets/colab-badge.svg\" alt=\"Open In Colab\"/></a>"
      ]
    },
    {
      "cell_type": "markdown",
      "source": [],
      "metadata": {
        "id": "n6_yZmnVykB5"
      }
    },
    {
      "cell_type": "markdown",
      "source": [
        "This is a basic introduction to the platform we will be using for this course. To start with, either install Jupyter notebook extensions in your Visual Studio Code environment or use the integrated notebooks in Google Colab / Kaggle / Jupyter Notebook web application.  "
      ],
      "metadata": {
        "id": "P-aoAeVfCQaJ"
      }
    },
    {
      "cell_type": "markdown",
      "source": [
        "Make sure your file is saved with the extension .ipynb . The notebook basically has two types of cells -  One for Markdown and the other for Code. Click the '+ Markdown'to create a mardown cell. Please try creating one below.\n"
      ],
      "metadata": {
        "id": "C14i9XbWCTz1"
      }
    },
    {
      "cell_type": "markdown",
      "source": [
        "Now let's try making our first Code cell. Click \"+ Code\" to create one."
      ],
      "metadata": {
        "id": "IZRFQ4j0CYjO"
      }
    },
    {
      "cell_type": "code",
      "source": [
        "1 + 1"
      ],
      "metadata": {
        "colab": {
          "base_uri": "https://localhost:8080/"
        },
        "id": "s1BOKoUUCZeG",
        "outputId": "058532df-0d6d-49d0-ad7a-3b09c579598d"
      },
      "execution_count": null,
      "outputs": [
        {
          "output_type": "execute_result",
          "data": {
            "text/plain": [
              "2"
            ]
          },
          "metadata": {},
          "execution_count": 1
        }
      ]
    },
    {
      "cell_type": "markdown",
      "source": [
        "The above one is a simple arithemetic operation. If a Python kernel is not already installed, it will prompt for installing one. Make sure to install the latest stable version of Python. (Currently 3.12)\n"
      ],
      "metadata": {
        "id": "mBsK5d8OCnSv"
      }
    },
    {
      "cell_type": "markdown",
      "source": [
        "If you are using JS make sure to install node.js and also use '%%script node' before the code. It's a python magic command to specify the language as JS. If it does not work refer https://n-riesco.github.io/ijavascript/doc/install.md.html#macos\n",
        "\n"
      ],
      "metadata": {
        "id": "XE7jSTyrCqaO"
      }
    },
    {
      "cell_type": "code",
      "source": [
        "%%script node\n",
        "console.log('Hello');\n",
        "let q = 5;\n",
        "let p = 6;\n",
        "console.log(p + q);"
      ],
      "metadata": {
        "colab": {
          "base_uri": "https://localhost:8080/"
        },
        "id": "ihVb0vybCt4Z",
        "outputId": "8dcbc3ba-f1a5-4993-d5f4-615ff23caa04"
      },
      "execution_count": null,
      "outputs": [
        {
          "output_type": "stream",
          "name": "stdout",
          "text": [
            "Hello\n",
            "11\n"
          ]
        }
      ]
    },
    {
      "cell_type": "code",
      "source": [
        "2+2\n"
      ],
      "metadata": {
        "id": "sqXPYzXwC7my",
        "outputId": "5297c7db-d378-4dba-bc2c-8ae8b92cef7c",
        "colab": {
          "base_uri": "https://localhost:8080/"
        }
      },
      "execution_count": null,
      "outputs": [
        {
          "output_type": "execute_result",
          "data": {
            "text/plain": [
              "4"
            ]
          },
          "metadata": {},
          "execution_count": 3
        }
      ]
    }
  ]
}